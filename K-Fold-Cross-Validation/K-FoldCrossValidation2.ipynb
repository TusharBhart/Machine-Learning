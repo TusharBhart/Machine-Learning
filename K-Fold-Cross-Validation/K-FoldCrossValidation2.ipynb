{
 "cells": [
  {
   "cell_type": "code",
   "execution_count": 1,
   "id": "e93edb9d",
   "metadata": {},
   "outputs": [],
   "source": [
    "from sklearn.datasets import load_iris"
   ]
  },
  {
   "cell_type": "code",
   "execution_count": 2,
   "id": "21be7f0b",
   "metadata": {},
   "outputs": [],
   "source": [
    "iris = load_iris()"
   ]
  },
  {
   "cell_type": "code",
   "execution_count": 13,
   "id": "d1b83426",
   "metadata": {},
   "outputs": [],
   "source": [
    "from sklearn.linear_model import LogisticRegression"
   ]
  },
  {
   "cell_type": "code",
   "execution_count": 14,
   "id": "8d664362",
   "metadata": {},
   "outputs": [],
   "source": [
    "from sklearn.svm import SVC"
   ]
  },
  {
   "cell_type": "code",
   "execution_count": 15,
   "id": "8cbc6811",
   "metadata": {},
   "outputs": [],
   "source": [
    "from sklearn.ensemble import RandomForestClassifier"
   ]
  },
  {
   "cell_type": "code",
   "execution_count": 16,
   "id": "a7b33fdb",
   "metadata": {},
   "outputs": [],
   "source": [
    "from sklearn. model_selection import train_test_split"
   ]
  },
  {
   "cell_type": "code",
   "execution_count": 17,
   "id": "3157af70",
   "metadata": {},
   "outputs": [],
   "source": [
    "x_train, x_test, y_train, y_test = train_test_split(iris.data, iris.target, test_size = 0.2)"
   ]
  },
  {
   "cell_type": "code",
   "execution_count": 18,
   "id": "697605e2",
   "metadata": {},
   "outputs": [
    {
     "data": {
      "text/plain": [
       "array([[6.2, 3.4, 5.4, 2.3],\n",
       "       [5.7, 3. , 4.2, 1.2],\n",
       "       [7.7, 2.6, 6.9, 2.3],\n",
       "       [4.6, 3.2, 1.4, 0.2],\n",
       "       [6.4, 2.8, 5.6, 2.2],\n",
       "       [6.4, 3.2, 5.3, 2.3],\n",
       "       [5.8, 4. , 1.2, 0.2],\n",
       "       [5.5, 2.6, 4.4, 1.2],\n",
       "       [5.7, 3.8, 1.7, 0.3],\n",
       "       [5.5, 2.4, 3.7, 1. ],\n",
       "       [5.5, 2.4, 3.8, 1.1],\n",
       "       [4.8, 3.4, 1.6, 0.2],\n",
       "       [5.1, 3.7, 1.5, 0.4],\n",
       "       [5. , 3.2, 1.2, 0.2],\n",
       "       [6.3, 2.8, 5.1, 1.5],\n",
       "       [6.4, 2.8, 5.6, 2.1],\n",
       "       [6. , 3.4, 4.5, 1.6],\n",
       "       [4.9, 3.1, 1.5, 0.1],\n",
       "       [5.1, 3.3, 1.7, 0.5],\n",
       "       [4.9, 2.4, 3.3, 1. ],\n",
       "       [6.7, 3. , 5.2, 2.3],\n",
       "       [6.6, 3. , 4.4, 1.4],\n",
       "       [4.8, 3.4, 1.9, 0.2],\n",
       "       [7.2, 3.6, 6.1, 2.5],\n",
       "       [5.8, 2.8, 5.1, 2.4],\n",
       "       [4.7, 3.2, 1.6, 0.2],\n",
       "       [5.8, 2.6, 4. , 1.2],\n",
       "       [5.5, 3.5, 1.3, 0.2],\n",
       "       [6.8, 2.8, 4.8, 1.4],\n",
       "       [7.4, 2.8, 6.1, 1.9],\n",
       "       [5.1, 3.5, 1.4, 0.3],\n",
       "       [5.9, 3. , 4.2, 1.5],\n",
       "       [6.7, 3. , 5. , 1.7],\n",
       "       [6.2, 2.8, 4.8, 1.8],\n",
       "       [6.2, 2.2, 4.5, 1.5],\n",
       "       [5. , 2. , 3.5, 1. ],\n",
       "       [4.5, 2.3, 1.3, 0.3],\n",
       "       [5.6, 2.7, 4.2, 1.3],\n",
       "       [5.4, 3.4, 1.7, 0.2],\n",
       "       [5.7, 4.4, 1.5, 0.4],\n",
       "       [7.7, 3.8, 6.7, 2.2],\n",
       "       [5.4, 3.4, 1.5, 0.4],\n",
       "       [7.2, 3.2, 6. , 1.8],\n",
       "       [6.3, 2.7, 4.9, 1.8],\n",
       "       [6.1, 2.6, 5.6, 1.4],\n",
       "       [5.4, 3.9, 1.3, 0.4],\n",
       "       [6.5, 2.8, 4.6, 1.5],\n",
       "       [6.7, 3.3, 5.7, 2.1],\n",
       "       [6.3, 3.3, 4.7, 1.6],\n",
       "       [6.4, 2.9, 4.3, 1.3],\n",
       "       [5.8, 2.7, 4.1, 1. ],\n",
       "       [6.6, 2.9, 4.6, 1.3],\n",
       "       [6.3, 2.3, 4.4, 1.3],\n",
       "       [5.6, 3. , 4.1, 1.3],\n",
       "       [7.9, 3.8, 6.4, 2. ],\n",
       "       [5.7, 2.9, 4.2, 1.3],\n",
       "       [7.6, 3. , 6.6, 2.1],\n",
       "       [4.6, 3.6, 1. , 0.2],\n",
       "       [5.2, 2.7, 3.9, 1.4],\n",
       "       [6.3, 3.4, 5.6, 2.4],\n",
       "       [5.8, 2.7, 5.1, 1.9],\n",
       "       [4.8, 3.1, 1.6, 0.2],\n",
       "       [7.1, 3. , 5.9, 2.1],\n",
       "       [7.3, 2.9, 6.3, 1.8],\n",
       "       [5.7, 2.6, 3.5, 1. ],\n",
       "       [6. , 2.2, 5. , 1.5],\n",
       "       [4.3, 3. , 1.1, 0.1],\n",
       "       [4.9, 3. , 1.4, 0.2],\n",
       "       [7.7, 3. , 6.1, 2.3],\n",
       "       [5.4, 3.7, 1.5, 0.2],\n",
       "       [5.9, 3. , 5.1, 1.8],\n",
       "       [4.8, 3. , 1.4, 0.1],\n",
       "       [5.1, 2.5, 3. , 1.1],\n",
       "       [5.4, 3. , 4.5, 1.5],\n",
       "       [5.9, 3.2, 4.8, 1.8],\n",
       "       [6.7, 3.1, 5.6, 2.4],\n",
       "       [4.9, 3.6, 1.4, 0.1],\n",
       "       [6. , 2.9, 4.5, 1.5],\n",
       "       [6.4, 3.1, 5.5, 1.8],\n",
       "       [6.1, 2.9, 4.7, 1.4],\n",
       "       [6.5, 3. , 5.5, 1.8],\n",
       "       [4.8, 3. , 1.4, 0.3],\n",
       "       [5.7, 2.8, 4.5, 1.3],\n",
       "       [4.7, 3.2, 1.3, 0.2],\n",
       "       [5.5, 2.3, 4. , 1.3],\n",
       "       [5.2, 3.4, 1.4, 0.2],\n",
       "       [6.3, 2.5, 5. , 1.9],\n",
       "       [4.4, 3.2, 1.3, 0.2],\n",
       "       [6.9, 3.1, 4.9, 1.5],\n",
       "       [6.9, 3.1, 5.4, 2.1],\n",
       "       [5. , 3.4, 1.5, 0.2],\n",
       "       [4.9, 3.1, 1.5, 0.2],\n",
       "       [6.8, 3.2, 5.9, 2.3],\n",
       "       [4.6, 3.1, 1.5, 0.2],\n",
       "       [6.7, 3.1, 4.4, 1.4],\n",
       "       [4.4, 3. , 1.3, 0.2],\n",
       "       [6.5, 3.2, 5.1, 2. ],\n",
       "       [6. , 2.2, 4. , 1. ],\n",
       "       [5.6, 2.8, 4.9, 2. ],\n",
       "       [6.7, 3.1, 4.7, 1.5],\n",
       "       [6. , 2.7, 5.1, 1.6],\n",
       "       [5.8, 2.7, 3.9, 1.2],\n",
       "       [5.7, 2.5, 5. , 2. ],\n",
       "       [5.6, 2.9, 3.6, 1.3],\n",
       "       [5. , 3. , 1.6, 0.2],\n",
       "       [6.3, 2.9, 5.6, 1.8],\n",
       "       [6.9, 3.1, 5.1, 2.3],\n",
       "       [6.1, 2.8, 4.7, 1.2],\n",
       "       [4.4, 2.9, 1.4, 0.2],\n",
       "       [7.2, 3. , 5.8, 1.6],\n",
       "       [5.2, 3.5, 1.5, 0.2],\n",
       "       [5. , 3.5, 1.3, 0.3],\n",
       "       [6. , 3. , 4.8, 1.8],\n",
       "       [5.1, 3.8, 1.6, 0.2],\n",
       "       [5.3, 3.7, 1.5, 0.2],\n",
       "       [5. , 3.4, 1.6, 0.4],\n",
       "       [6.1, 3. , 4.6, 1.4],\n",
       "       [5.6, 3. , 4.5, 1.5],\n",
       "       [5.1, 3.4, 1.5, 0.2],\n",
       "       [5.5, 4.2, 1.4, 0.2]])"
      ]
     },
     "execution_count": 18,
     "metadata": {},
     "output_type": "execute_result"
    }
   ],
   "source": [
    "x_train"
   ]
  },
  {
   "cell_type": "code",
   "execution_count": 19,
   "id": "d4b3267e",
   "metadata": {},
   "outputs": [
    {
     "data": {
      "text/plain": [
       "120"
      ]
     },
     "execution_count": 19,
     "metadata": {},
     "output_type": "execute_result"
    }
   ],
   "source": [
    "len(x_train)"
   ]
  },
  {
   "cell_type": "code",
   "execution_count": 20,
   "id": "4384dfe2",
   "metadata": {},
   "outputs": [
    {
     "data": {
      "text/plain": [
       "30"
      ]
     },
     "execution_count": 20,
     "metadata": {},
     "output_type": "execute_result"
    }
   ],
   "source": [
    "len(x_test)"
   ]
  },
  {
   "cell_type": "code",
   "execution_count": 21,
   "id": "51cfb4e5",
   "metadata": {},
   "outputs": [],
   "source": [
    "from sklearn.model_selection import cross_val_score"
   ]
  },
  {
   "cell_type": "code",
   "execution_count": 23,
   "id": "4e3ad357",
   "metadata": {},
   "outputs": [
    {
     "data": {
      "text/plain": [
       "array([0.96666667, 1.        , 0.93333333, 0.96666667, 1.        ])"
      ]
     },
     "execution_count": 23,
     "metadata": {},
     "output_type": "execute_result"
    }
   ],
   "source": [
    "cross_val_score(LogisticRegression(max_iter = 10000), iris.data, iris.target)"
   ]
  },
  {
   "cell_type": "code",
   "execution_count": 24,
   "id": "ae1a41db",
   "metadata": {},
   "outputs": [
    {
     "data": {
      "text/plain": [
       "array([0.96666667, 0.96666667, 0.96666667, 0.93333333, 1.        ])"
      ]
     },
     "execution_count": 24,
     "metadata": {},
     "output_type": "execute_result"
    }
   ],
   "source": [
    "cross_val_score(SVC(), iris.data, iris.target)"
   ]
  },
  {
   "cell_type": "code",
   "execution_count": 25,
   "id": "596565b7",
   "metadata": {},
   "outputs": [
    {
     "data": {
      "text/plain": [
       "array([0.96666667, 0.96666667, 0.93333333, 0.96666667, 1.        ])"
      ]
     },
     "execution_count": 25,
     "metadata": {},
     "output_type": "execute_result"
    }
   ],
   "source": [
    "cross_val_score(RandomForestClassifier(), iris.data, iris.target)"
   ]
  }
 ],
 "metadata": {
  "kernelspec": {
   "display_name": "Python 3 (ipykernel)",
   "language": "python",
   "name": "python3"
  },
  "language_info": {
   "codemirror_mode": {
    "name": "ipython",
    "version": 3
   },
   "file_extension": ".py",
   "mimetype": "text/x-python",
   "name": "python",
   "nbconvert_exporter": "python",
   "pygments_lexer": "ipython3",
   "version": "3.9.12"
  }
 },
 "nbformat": 4,
 "nbformat_minor": 5
}
