{
 "cells": [
  {
   "cell_type": "code",
   "execution_count": 10,
   "id": "ec5afeb2",
   "metadata": {},
   "outputs": [],
   "source": [
    "import numpy as np\n",
    "import math\n",
    "from sklearn import linear_model\n",
    "import pandas as pd"
   ]
  },
  {
   "cell_type": "code",
   "execution_count": 11,
   "id": "e608984b",
   "metadata": {},
   "outputs": [],
   "source": [
    "def gradient_descent(x, y):\n",
    "    m_curr = 0\n",
    "    b_curr = 0 \n",
    "    n = len(x)\n",
    "    lr = 0.0002\n",
    "    itr = 1000000\n",
    "    prev = 0\n",
    "\n",
    "    for i in range(itr):\n",
    "        yp = m_curr * x + b_curr\n",
    "        cost = (1 / n) * sum([val ** 2 for val in(y - yp)])\n",
    "        md = -(2 / n) * sum(x * (y - yp))\n",
    "        bd = -(2 / n) * sum(y - yp)\n",
    "\n",
    "        m_curr -= lr * md\n",
    "        b_curr -= lr * bd\n",
    "        # print(\"m {}, b {}, cost {}, itr {}\". format(m_curr, b_curr, cost, i))\n",
    "        \n",
    "        if(math.isclose(prev, cost, rel_tol = 1e-20)):\n",
    "           break\n",
    "        prev = cost\n",
    "    return m_curr, b_curr"
   ]
  },
  {
   "cell_type": "code",
   "execution_count": 12,
   "id": "7576a445",
   "metadata": {},
   "outputs": [],
   "source": [
    "x = np.array([92,56,88,70,80,49,65,35,66,67])\n",
    "y = np.array([98,68,81,80,83,52,66,30,68,73])\n",
    "\n",
    "score = {'Maths': x, 'cs': y}\n",
    "df = pd.DataFrame(score)"
   ]
  },
  {
   "cell_type": "code",
   "execution_count": 13,
   "id": "1a4bffbd",
   "metadata": {},
   "outputs": [
    {
     "data": {
      "text/plain": [
       "(1.0177381667350405, 1.9150826165722297)"
      ]
     },
     "execution_count": 13,
     "metadata": {},
     "output_type": "execute_result"
    }
   ],
   "source": [
    "gradient_descent(x, y)"
   ]
  },
  {
   "cell_type": "code",
   "execution_count": 14,
   "id": "a4b17767",
   "metadata": {},
   "outputs": [],
   "source": [
    "reg = linear_model.LinearRegression()"
   ]
  },
  {
   "cell_type": "code",
   "execution_count": 16,
   "id": "fb97a72a",
   "metadata": {},
   "outputs": [
    {
     "data": {
      "text/plain": [
       "LinearRegression()"
      ]
     },
     "execution_count": 16,
     "metadata": {},
     "output_type": "execute_result"
    }
   ],
   "source": [
    "reg.fit(df[['Maths']], df.cs)"
   ]
  },
  {
   "cell_type": "code",
   "execution_count": 17,
   "id": "ca432354",
   "metadata": {},
   "outputs": [
    {
     "data": {
      "text/plain": [
       "1.9152193111569176"
      ]
     },
     "execution_count": 17,
     "metadata": {},
     "output_type": "execute_result"
    }
   ],
   "source": [
    "reg.intercept_"
   ]
  },
  {
   "cell_type": "code",
   "execution_count": 18,
   "id": "7e71f8d8",
   "metadata": {},
   "outputs": [
    {
     "data": {
      "text/plain": [
       "array([1.01773624])"
      ]
     },
     "execution_count": 18,
     "metadata": {},
     "output_type": "execute_result"
    }
   ],
   "source": [
    "reg.coef_"
   ]
  },
  {
   "cell_type": "code",
   "execution_count": null,
   "id": "64d10519",
   "metadata": {},
   "outputs": [],
   "source": []
  }
 ],
 "metadata": {
  "kernelspec": {
   "display_name": "Python 3 (ipykernel)",
   "language": "python",
   "name": "python3"
  },
  "language_info": {
   "codemirror_mode": {
    "name": "ipython",
    "version": 3
   },
   "file_extension": ".py",
   "mimetype": "text/x-python",
   "name": "python",
   "nbconvert_exporter": "python",
   "pygments_lexer": "ipython3",
   "version": "3.9.12"
  }
 },
 "nbformat": 4,
 "nbformat_minor": 5
}
